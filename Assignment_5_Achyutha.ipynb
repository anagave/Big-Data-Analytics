{
  "nbformat": 4,
  "nbformat_minor": 0,
  "metadata": {
    "colab": {
      "name": "Assignment_5_Achyutha.ipynb",
      "provenance": [],
      "collapsed_sections": []
    },
    "kernelspec": {
      "name": "python3",
      "display_name": "Python 3"
    }
  },
  "cells": [
    {
      "cell_type": "code",
      "metadata": {
        "id": "bs_RCdja0IX1"
      },
      "source": [
        "#Name : Achyutha Nagaveti Bhavani Santhoshi\n",
        "#CWID : A20314248"
      ],
      "execution_count": null,
      "outputs": []
    },
    {
      "cell_type": "code",
      "metadata": {
        "id": "9cMYVdSu7MNg"
      },
      "source": [
        "# Importing the required libraries\n",
        "import pandas as pd\n",
        "import collections\n",
        "import math\n",
        "from sklearn.metrics import mean_squared_error\n",
        "from math import sqrt\n",
        "import numpy as np\n",
        "from operator import itemgetter"
      ],
      "execution_count": 21,
      "outputs": []
    },
    {
      "cell_type": "code",
      "metadata": {
        "id": "BrzTnYDd7MK9"
      },
      "source": [
        "# Reading the input data files\n",
        "df_item_test = pd.read_csv('test_dataset.csv')\n",
        "df_item_train = pd.read_csv('training_dataset.csv')"
      ],
      "execution_count": 22,
      "outputs": []
    },
    {
      "cell_type": "code",
      "metadata": {
        "id": "1xv15cAj7NQS"
      },
      "source": [
        "# Converting the data files to matrices\n",
        "given_test_matrix = df_item_test[['user_id', 'item_id', 'rating']].to_numpy()\n",
        "given_train_matrix = df_item_train[['user_id', 'item_id', 'rating']].to_numpy()"
      ],
      "execution_count": 23,
      "outputs": []
    },
    {
      "cell_type": "code",
      "metadata": {
        "id": "nljEc5Px72Xh",
        "colab": {
          "base_uri": "https://localhost:8080/"
        },
        "outputId": "3357cd9e-f4c4-4217-be7e-c46d8de2081b"
      },
      "source": [
        "test_max = given_test_matrix.max(axis=0)\n",
        "train_max = given_train_matrix.max(axis=0)\n",
        "\n",
        "total_users = max(test_max[0], train_max[0])+1     # Taking the maximum and adding 1 as the values start from 1 and not 0\n",
        "total_movies = max(test_max[1], train_max[1])+1\n",
        "\n",
        "print(\"Columns : \" + str(total_users) + \" and Rows: \" + str(total_movies))"
      ],
      "execution_count": 24,
      "outputs": [
        {
          "output_type": "stream",
          "name": "stdout",
          "text": [
            "Columns : 944 and Rows: 1683\n"
          ]
        }
      ]
    },
    {
      "cell_type": "code",
      "metadata": {
        "id": "sefJaXaJ9HR3"
      },
      "source": [
        "# Utility matrix is the matrix consisting of movies as rows and users as columns\n",
        "utility_matrix = np.zeros((total_movies,total_users))\n",
        "total_entries = df_item_train.shape[0]"
      ],
      "execution_count": 28,
      "outputs": []
    },
    {
      "cell_type": "code",
      "metadata": {
        "id": "s3VA8yB838U1",
        "colab": {
          "base_uri": "https://localhost:8080/"
        },
        "outputId": "8e95d717-b2e6-4d8b-b519-148ee5f878db"
      },
      "source": [
        "print(\"Total Entries in the utility matrix: \" + str(total_entries))"
      ],
      "execution_count": 29,
      "outputs": [
        {
          "output_type": "stream",
          "name": "stdout",
          "text": [
            "Total Entries in the utility matrix: 95000\n"
          ]
        }
      ]
    },
    {
      "cell_type": "code",
      "metadata": {
        "id": "al484ASV9O9n"
      },
      "source": [
        "# Extracting the users, movies and the corresponding ratings and transferring them to the utility matix\n",
        "for i in range(0, total_entries):\n",
        "  userID, itemID, rating, name = df_item_train.iloc[i]\n",
        "  utility_matrix[itemID][userID] = rating"
      ],
      "execution_count": 30,
      "outputs": []
    },
    {
      "cell_type": "code",
      "metadata": {
        "id": "YE8QqZxjJMIN",
        "colab": {
          "base_uri": "https://localhost:8080/"
        },
        "outputId": "d27c89f7-bde0-4f39-dd93-d564918b6bf5"
      },
      "source": [
        "# Checking whether all the non-zero entries have been added to the utility matrix\n",
        "np.count_nonzero(utility_matrix)"
      ],
      "execution_count": 31,
      "outputs": [
        {
          "output_type": "execute_result",
          "data": {
            "text/plain": [
              "95000"
            ]
          },
          "metadata": {},
          "execution_count": 31
        }
      ]
    },
    {
      "cell_type": "code",
      "metadata": {
        "id": "XfPNrFZC-jLt"
      },
      "source": [
        "# Initializing the adjusted cosine and cosine matrices with zeroes\n",
        "adjusted_cosine_utility_matrix = np.zeros((total_movies,total_users))\n",
        "cosine_utility_matrix = np.zeros((total_movies,total_users))"
      ],
      "execution_count": 32,
      "outputs": []
    },
    {
      "cell_type": "code",
      "metadata": {
        "id": "wpapn--HK9XS"
      },
      "source": [
        "for i in range(1, total_movies):\n",
        "  sum = np.sum(utility_matrix[i])  # Finding the sum of the row\n",
        "  non_zero = np.count_nonzero(utility_matrix[i])  # This gives the number of non zeroes\n",
        "  if sum == 0.0:\n",
        "    continue\n",
        "  avg = sum/non_zero   # Finding the average\n",
        "  for j in range(1, total_users):\n",
        "    if utility_matrix[i][j] != 0:\n",
        "      adjusted_cosine_utility_matrix[i][j] = utility_matrix[i][j] - avg  # Subtracting the mean value from the rating for adjusted cosine\n",
        "      cosine_utility_matrix[i][j] = utility_matrix[i][j] # Just adding the ratings to cosine similarity matrix"
      ],
      "execution_count": 33,
      "outputs": []
    },
    {
      "cell_type": "code",
      "metadata": {
        "id": "8U4FnopDmQ9M",
        "colab": {
          "base_uri": "https://localhost:8080/"
        },
        "outputId": "946b4e4c-4bfb-4ec4-c293-21418a664f38"
      },
      "source": [
        "print(\"Non zero values in adjusted_cosine_utility_matrix: \" + str(np.count_nonzero(adjusted_cosine_utility_matrix)))\n",
        "print(\"Non zero values in cosine_utility_matrix: \" + str(np.count_nonzero(cosine_utility_matrix)))"
      ],
      "execution_count": 34,
      "outputs": [
        {
          "output_type": "stream",
          "name": "stdout",
          "text": [
            "Non zero values in adjusted_cosine_utility_matrix: 93797\n",
            "Non zero values in cosine_utility_matrix: 95000\n"
          ]
        }
      ]
    },
    {
      "cell_type": "code",
      "metadata": {
        "id": "QyQMvoUjmqdr"
      },
      "source": [
        "# This function will give the similarity value\n",
        "def getSimilarityValue(a, b) -> float:\n",
        "  dot = np.dot(a,b) # Getting the dot product of two vectors which is the numerator of the similarity equation\n",
        "  first = (math.sqrt(np.sum(np.square(a))))  # This is the first term in the denominator of the similarity equation\n",
        "  second = (math.sqrt(np.sum(np.square(b)))) # This is the second term in the denominator of the similarity equation\n",
        "  mult = first * second  # Multiplying the two terms\n",
        "  if mult == 0.0:\n",
        "    return 0.0\n",
        "  val = dot/(first*second) # This is the similarity equation \n",
        "  return val"
      ],
      "execution_count": 35,
      "outputs": []
    },
    {
      "cell_type": "code",
      "metadata": {
        "id": "54uXWW5enBlN"
      },
      "source": [
        "# Similarity matrix values are initialized with zeroes\n",
        "similarity_matrix_adjusted_cosine = np.zeros((total_movies,total_movies))\n",
        "similarity_matrix_cosine = np.zeros((total_movies,total_movies))"
      ],
      "execution_count": 36,
      "outputs": []
    },
    {
      "cell_type": "code",
      "metadata": {
        "id": "VnJDRlXGmyV3"
      },
      "source": [
        "# Computing all the similarity values with Adjusted cosine similarity metric and cosine similarity metric\n",
        "for i in range(1,total_movies):\n",
        "  for j in range(1,total_movies):\n",
        "    similarity_matrix_adjusted_cosine[i][j] = getSimilarityValue(adjusted_cosine_utility_matrix[i], adjusted_cosine_utility_matrix[j])\n",
        "    similarity_matrix_cosine[i][j] = getSimilarityValue(cosine_utility_matrix[i], cosine_utility_matrix[j])"
      ],
      "execution_count": 37,
      "outputs": []
    },
    {
      "cell_type": "code",
      "metadata": {
        "id": "RQnpPjg0__vx"
      },
      "source": [
        "# This is the given RSME function \n",
        "def RMSE(y_actual, y_predicted):\n",
        "  rms_value = sqrt(mean_squared_error(y_actual, y_predicted))\n",
        "  return round(rms_value,4)"
      ],
      "execution_count": 38,
      "outputs": []
    },
    {
      "cell_type": "code",
      "metadata": {
        "id": "KQT6KZVpviZV"
      },
      "source": [
        "predicted_adjusted_cosine_ratings_list = list() \n",
        "predicted_cosine_ratings_list = list() \n",
        "actual_ratings_list = list() \n",
        "for i in range(0, 5000):\n",
        "  #collecting movie_id and similarity in a dictionary for each movie\n",
        "  #for both cosine and adjusted cosine similarity\n",
        "  predict_user, predict_movie, actual_rating, movie_name = df_item_test.iloc[i]\n",
        "  actual_ratings_list.append(actual_rating)\n",
        "  similar_adjusted_cosine_dict = collections.defaultdict(float)\n",
        "  similar_cosine_dict = collections.defaultdict(float)\n",
        "\n",
        "  #selecting movies having more than 0.11 adjusted cosine similarity and\n",
        "  #movies having more than 0.2 cosine similarity for prediction\n",
        "  for i in range(1,total_movies):\n",
        "    if i != predict_movie and similarity_matrix_adjusted_cosine[predict_movie][i] > 0.11:\n",
        "      similar_adjusted_cosine_dict[i] = similarity_matrix_adjusted_cosine[predict_movie][i]\n",
        "    \n",
        "    if i != predict_movie and similarity_matrix_cosine[predict_movie][i] > 0.2:\n",
        "      similar_cosine_dict[i] = similarity_matrix_cosine[predict_movie][i]\n",
        "\n",
        "\n",
        "  # Adjusted cosine similarity metric prediction\n",
        "  adjusted_cosine_value_sum = 0.0\n",
        "  adjusted_cosine_dot_sum = 0.0\n",
        "  for key, value in similar_adjusted_cosine_dict.items():\n",
        "    if utility_matrix[key][predict_user] == 0.0:\n",
        "      continue\n",
        "    adjusted_cosine_value_sum = adjusted_cosine_value_sum + value\n",
        "    adjusted_cosine_dot_sum = adjusted_cosine_dot_sum + utility_matrix[key][predict_user]*value\n",
        "\n",
        "  if adjusted_cosine_value_sum == 0.0:\n",
        "    predicted_adjusted_cosine_value = 0.0\n",
        "  else:\n",
        "    predicted_adjusted_cosine_value = adjusted_cosine_dot_sum/adjusted_cosine_value_sum\n",
        "  \n",
        "  predicted_adjusted_cosine_ratings_list.append(predicted_adjusted_cosine_value) # Appending the values to the prediction list\n",
        "\n",
        "  # Cosine similarity metric prediction\n",
        "  cosine_value_sum = 0.0\n",
        "  cosine_dot_sum = 0.0\n",
        "  for key, value in similar_cosine_dict.items():\n",
        "    if utility_matrix[key][predict_user] == 0.0:\n",
        "      continue\n",
        "    cosine_value_sum = cosine_value_sum + value\n",
        "    cosine_dot_sum = cosine_dot_sum + utility_matrix[key][predict_user]*value\n",
        "    \n",
        "  if cosine_value_sum == 0.0:\n",
        "    predicted_cosine_value = 0.0\n",
        "  else:\n",
        "    predicted_cosine_value = cosine_dot_sum/cosine_value_sum\n",
        "  \n",
        "  predicted_cosine_ratings_list.append(predicted_cosine_value) # Appending the values to the prediction list\n"
      ],
      "execution_count": 39,
      "outputs": []
    },
    {
      "cell_type": "code",
      "metadata": {
        "id": "N8NAulkPH1II",
        "colab": {
          "base_uri": "https://localhost:8080/"
        },
        "outputId": "bd33d20a-4926-4e46-fde7-9559fcb0e049"
      },
      "source": [
        "# Prediction values with adjusted cosine similarity metric and the RMSE values associated with it \n",
        "actual_list_for_rms = list()\n",
        "predicted_adjusted_cosine_list_for_rms = list()\n",
        "\n",
        "for i in range(0, 5000):\n",
        "  if predicted_adjusted_cosine_ratings_list[i] > 0.0:\n",
        "    actual_list_for_rms.append(actual_ratings_list[i])\n",
        "    predicted_adjusted_cosine_list_for_rms.append(predicted_adjusted_cosine_ratings_list[i])\n",
        "\n",
        "adjusted_cosine_lst_tuple = list(zip(actual_list_for_rms, predicted_adjusted_cosine_list_for_rms))\n",
        "\n",
        "print(\"Actual Value, Predicted Values\")\n",
        "for i in range(0,5):\n",
        "  print(adjusted_cosine_lst_tuple[i])\n",
        "print(\"The Adjusted Cosine Similarity RMSE\")\n",
        "print(RMSE(actual_list_for_rms, predicted_adjusted_cosine_list_for_rms))"
      ],
      "execution_count": 60,
      "outputs": [
        {
          "output_type": "stream",
          "name": "stdout",
          "text": [
            "Actual Value, Predicted Values\n",
            "(3, 3.427939610681819)\n",
            "(1, 2.858981531210522)\n",
            "(4, 3.5433266123328826)\n",
            "(1, 4.308022685421942)\n",
            "(5, 3.592108592688681)\n",
            "The Adjusted Cosine Similarity RMSE\n",
            "0.9294\n"
          ]
        }
      ]
    },
    {
      "cell_type": "code",
      "metadata": {
        "id": "58cIIJn78u-c",
        "colab": {
          "base_uri": "https://localhost:8080/"
        },
        "outputId": "c601e789-918b-4629-96c1-d1694e55e915"
      },
      "source": [
        "# Prediction values with cosine similarity metric and the RMSE values associated with it\n",
        "actual_list_for_rms = list()\n",
        "predicted_cosine_list_for_rms = list()\n",
        "\n",
        "for i in range(0, 500):\n",
        "  if predicted_cosine_ratings_list[i] > 0.0:\n",
        "    actual_list_for_rms.append(actual_ratings_list[i])\n",
        "    predicted_cosine_list_for_rms.append(predicted_cosine_ratings_list[i])\n",
        "\n",
        "cosine_lst_tuple = list(zip(actual_list_for_rms, predicted_cosine_list_for_rms))\n",
        "\n",
        "print(\"Actual Value, Predicted Values\")\n",
        "for i in range(0,5):\n",
        "  print(cosine_lst_tuple[i])\n",
        "print(\"The Cosine Similarity RMSE\")\n",
        "print(RMSE(actual_list_for_rms, predicted_cosine_list_for_rms))"
      ],
      "execution_count": 59,
      "outputs": [
        {
          "output_type": "stream",
          "name": "stdout",
          "text": [
            "Actual Value, Predicted Values\n",
            "(3, 3.6451648391309615)\n",
            "(1, 2.812386926839275)\n",
            "(4, 3.630326120297367)\n",
            "(1, 3.222889909304044)\n",
            "(5, 3.1752131865495463)\n",
            "The Cosine Similarity RMSE\n",
            "0.9883\n"
          ]
        }
      ]
    },
    {
      "cell_type": "markdown",
      "metadata": {
        "id": "mYkcA5l-zWAr"
      },
      "source": [
        "Implement Cosine and Adjusted Cosine Similarity. Adjusted Cosine Similarity is better Cosine Similarity as when compared using RMSE values. It is because adjusted cosine has the average rating around 0 as the average is taken and subtracted from each rating and the missing ratings are given a rating of 0, but for cosine similarity the ratings are taken as it is and the missing ratings are given a rating of 0 which does not capture the essence of ratings well which the users have given."
      ]
    }
  ]
}