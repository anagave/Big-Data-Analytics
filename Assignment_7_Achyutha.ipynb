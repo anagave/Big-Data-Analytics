{
  "nbformat": 4,
  "nbformat_minor": 0,
  "metadata": {
    "colab": {
      "name": "Assignment_7_Achyutha.ipynb",
      "provenance": []
    },
    "kernelspec": {
      "name": "python3",
      "display_name": "Python 3"
    },
    "language_info": {
      "name": "python"
    }
  },
  "cells": [
    {
      "cell_type": "code",
      "metadata": {
        "colab": {
          "base_uri": "https://localhost:8080/"
        },
        "id": "DZXV4UHurPTR",
        "outputId": "87b0ce2d-0c63-4098-f3bc-a78eb3d853ea"
      },
      "source": [
        "pip install pyspark"
      ],
      "execution_count": 14,
      "outputs": [
        {
          "output_type": "stream",
          "name": "stdout",
          "text": [
            "Requirement already satisfied: pyspark in /usr/local/lib/python3.7/dist-packages (3.2.0)\n",
            "Requirement already satisfied: py4j==0.10.9.2 in /usr/local/lib/python3.7/dist-packages (from pyspark) (0.10.9.2)\n"
          ]
        }
      ]
    },
    {
      "cell_type": "code",
      "metadata": {
        "id": "eLMVjMpzdJ5H"
      },
      "source": [
        "import sys\n",
        "import re\n",
        "from pyspark import SparkContext, SparkConf\n",
        "import numpy as np\n",
        "\n",
        "import time as time\n",
        "from operator import itemgetter"
      ],
      "execution_count": 15,
      "outputs": []
    },
    {
      "cell_type": "code",
      "metadata": {
        "id": "BZcOurVydM7U"
      },
      "source": [
        "# create Spark context with necessary configuration\n",
        "sc = SparkContext(\"local\",\"PySpark Word Count Exmaple\")"
      ],
      "execution_count": 16,
      "outputs": []
    },
    {
      "cell_type": "code",
      "metadata": {
        "id": "vgifqaPidQm4"
      },
      "source": [
        "filepath = 'email-Eu-core.txt'\n",
        "links = sc.textFile(filepath)\n",
        "\n",
        "#links.repartition(32)\n",
        "\n",
        "#transpose\n",
        "links_formatted = links.map(lambda x: (int(x.split(' ')[0]),int(x.split(' ')[1])))\n",
        "links_formatted_t = links.map(lambda x: (int(x.split(' ')[1]),int(x.split(' ')[0])))\n"
      ],
      "execution_count": 18,
      "outputs": []
    },
    {
      "cell_type": "code",
      "metadata": {
        "colab": {
          "base_uri": "https://localhost:8080/"
        },
        "id": "1iwhsFQHdV9z",
        "outputId": "b36c7684-0141-48c2-89f7-7d8d9b1a6a16"
      },
      "source": [
        "links_formatted_list = links_formatted.map(lambda x: (x[0],[x[1]]))\n",
        "link_formatted_dict = links_formatted_list.reduceByKey(lambda a,b: a+b)\n",
        "\n",
        "#transpose\n",
        "links_formatted_list_t = links_formatted_t.map(lambda x: (x[0],[x[1]]))\n",
        "link_formatted_dict_t = links_formatted_list_t.reduceByKey(lambda a,b: a+b)\n",
        "\n",
        "print('The number of nodes in L is ',link_formatted_dict.count())\n",
        "print('The number of nodes in L.T is ',link_formatted_dict_t.count())\n"
      ],
      "execution_count": 19,
      "outputs": [
        {
          "output_type": "stream",
          "name": "stdout",
          "text": [
            "The number of nodes in L is  868\n",
            "The number of nodes in L.T is  991\n"
          ]
        }
      ]
    },
    {
      "cell_type": "code",
      "metadata": {
        "colab": {
          "base_uri": "https://localhost:8080/"
        },
        "id": "XyccJWzfdY25",
        "outputId": "7732878d-d9d4-4170-c63c-f7578c507fba"
      },
      "source": [
        "hubs = links_formatted.flatMap(lambda x: x).distinct().map(lambda x: (x, 1.0))\n",
        "n_nodes = hubs.count()\n",
        "\n",
        "print('Total number of nodes is ', n_nodes)\n",
        "elements = list(np.zeros(n_nodes))\n",
        "rdd = sc.parallelize(elements)\n",
        "\n",
        "rdd = rdd.zipWithIndex()\n",
        "\n",
        "def getList(x):\n",
        "  return_list = list(np.zeros(n_nodes))\n",
        "  return return_list\n",
        "\n",
        "matRdd = rdd.map(lambda x: getList(x[0]))\n",
        "\n",
        "#transpose\n",
        "matRdd_t = rdd.map(lambda x: getList(x[0]))\n"
      ],
      "execution_count": 20,
      "outputs": [
        {
          "output_type": "stream",
          "name": "stdout",
          "text": [
            "Total number of nodes is  1005\n"
          ]
        }
      ]
    },
    {
      "cell_type": "code",
      "metadata": {
        "id": "KieFhIkPdav7"
      },
      "source": [
        "def getList_empty(x):\n",
        "  return_list = []\n",
        "  return return_list\n",
        "\n",
        "empty_rdd = rdd.map(lambda x: getList_empty(x[0]))\n",
        "empty_rdd = empty_rdd.zipWithIndex()\n",
        "empty_rdd = empty_rdd.map(lambda x: (x[1], x[0]))\n",
        "\n",
        "def add_two_lists(x):\n",
        "  if (x[1][0]) == None :\n",
        "    return (x[0],['A'])\n",
        "  else:\n",
        "    return (x[0],x[1][0])\n",
        "\n",
        "zip_empty = link_formatted_dict.rightOuterJoin(empty_rdd).map(lambda x: add_two_lists(x))\n",
        "zip_empty_p = zip_empty.repartition(1)\n",
        "\n",
        "#transpose\n",
        "zip_empty_t = link_formatted_dict_t.rightOuterJoin(empty_rdd).map(lambda x: add_two_lists(x))\n",
        "zip_empty_p_t = zip_empty_t.repartition(1)\n"
      ],
      "execution_count": 21,
      "outputs": []
    },
    {
      "cell_type": "code",
      "metadata": {
        "colab": {
          "base_uri": "https://localhost:8080/"
        },
        "id": "6BdEtXphdcgU",
        "outputId": "a1c37736-c1aa-4ca8-ea27-8edeee4d97f7"
      },
      "source": [
        "matRdd1 = matRdd.zipWithIndex()\n",
        "matRdd_zip = matRdd1.map(lambda x: (x[1], x[0]))\n",
        "\n",
        "#transpose\n",
        "matRdd_t1 = matRdd_t.zipWithIndex()\n",
        "matRdd_t_zip = matRdd_t1.map(lambda x: (x[1], x[0]))\n",
        "\n",
        "sampleWordsRDD6 = zip_empty_p.join(matRdd_zip)\n",
        "print(sampleWordsRDD6.count())\n",
        "\n",
        "#transpose\n",
        "sampleWordsRDD6_t = zip_empty_p_t.join(matRdd_t_zip)\n",
        "print(sampleWordsRDD6_t.count())\n"
      ],
      "execution_count": 22,
      "outputs": [
        {
          "output_type": "stream",
          "name": "stdout",
          "text": [
            "1005\n",
            "1005\n"
          ]
        }
      ]
    },
    {
      "cell_type": "code",
      "metadata": {
        "id": "ljNGjAbWdeQi"
      },
      "source": [
        "def form_matrix(x):\n",
        "  if x[1][0][0] == 'A':\n",
        "    l1 = [0 for i in range(n_nodes)]\n",
        "    return (x[0],l1)\n",
        "  else:\n",
        "    for k in x[1][0]:\n",
        "      x[1][1][k] = 1\n",
        "    return (x[0],x[1][1])\n",
        "\n",
        "l_matrix = sampleWordsRDD6.map(lambda x: form_matrix(x))\n",
        "\n",
        "#transpose\n",
        "l_t_matrix = sampleWordsRDD6_t.map(lambda x: form_matrix(x))"
      ],
      "execution_count": 23,
      "outputs": []
    },
    {
      "cell_type": "code",
      "metadata": {
        "colab": {
          "base_uri": "https://localhost:8080/"
        },
        "id": "l9PS5et6dgWH",
        "outputId": "f7d8aec9-1d3e-4a17-ba52-e88eb3c749ff"
      },
      "source": [
        "hubs_ones = [1 for i in range(n_nodes)]\n",
        "hubs = sc.parallelize(hubs_ones)\n",
        "hubs_updated = hubs_ones\n",
        "\n",
        "def product_sum(x):\n",
        "  if x[1][1] == None:\n",
        "    return 0\n",
        "  else:\n",
        "    return np.sum(np.array(x[1])*np.array(x[2]))\n",
        "\n",
        "start0 = time.time()\n",
        "for i in range(40):\n",
        "  start = time.time()\n",
        "\n",
        "  matrix_hubs = l_matrix.map(lambda x: (x[0],x[1],hubs_updated))\n",
        "  matrix_product_hubs = matrix_hubs.map(lambda x: product_sum(x))\n",
        "\n",
        "  auths_list = matrix_product_hubs.collect()\n",
        "  auths_max = max(auths_list)\n",
        "  auths_list = [auths_list[i]/auths_max for i in range(len(auths_list))]\n",
        "\n",
        "  matrix_t_auths = l_t_matrix.map(lambda x: (x[0],x[1],auths_list))\n",
        "  matrix_t_product_auths = matrix_t_auths.map(lambda x: product_sum(x))\n",
        "\n",
        "  hubs_updated = matrix_t_product_auths.collect()\n",
        "  hub_max = max(hubs_updated)\n",
        "  hubs_updated = [hubs_updated[i]/hub_max for i in range(len(hubs_updated))]\n",
        "\n",
        "  print(i, np.round(time.time() - start,4))\n",
        "\n",
        "print('Total time : ', np.round(time.time() - start0,4))"
      ],
      "execution_count": 24,
      "outputs": [
        {
          "output_type": "stream",
          "name": "stdout",
          "text": [
            "0 1.7706\n",
            "1 1.7311\n",
            "2 1.5257\n",
            "3 1.5631\n",
            "4 1.8879\n",
            "5 1.675\n",
            "6 1.6494\n",
            "7 1.6994\n",
            "8 1.48\n",
            "9 1.5338\n",
            "10 1.5085\n",
            "11 1.5353\n",
            "12 1.464\n",
            "13 1.5659\n",
            "14 1.4853\n",
            "15 1.5585\n",
            "16 1.8655\n",
            "17 1.5199\n",
            "18 1.5641\n",
            "19 1.4239\n",
            "20 1.5484\n",
            "21 1.4188\n",
            "22 1.4626\n",
            "23 1.4427\n",
            "24 1.5297\n",
            "25 1.4405\n",
            "26 1.4632\n",
            "27 1.4885\n",
            "28 1.4373\n",
            "29 1.3706\n",
            "30 1.4453\n",
            "31 1.3842\n",
            "32 1.7776\n",
            "33 1.4516\n",
            "34 1.402\n",
            "35 1.4797\n",
            "36 1.3663\n",
            "37 1.5991\n",
            "38 1.4024\n",
            "39 1.9217\n",
            "Total time :  61.8838\n"
          ]
        }
      ]
    },
    {
      "cell_type": "code",
      "metadata": {
        "id": "VYFJSa8UdimQ"
      },
      "source": [
        "tuple_hubs = []\n",
        "tuple_auths = []\n",
        "\n",
        "for i in range(0, n_nodes):\n",
        "  t = (i, hubs_updated[i])\n",
        "  tuple_hubs.append(t)\n",
        "\n",
        "  t = (i, auths_list[i])\n",
        "  tuple_auths.append(t)\n",
        "\n",
        "sorted_hubs_asc = sorted(tuple_hubs,key=itemgetter(1), reverse=False)\n",
        "sorted_hubs_dsc = sorted(tuple_hubs,key=itemgetter(1), reverse=True)\n",
        "\n",
        "sorted_auths_asc = sorted(tuple_auths,key=itemgetter(1), reverse=False)\n",
        "sorted_auths_dsc = sorted(tuple_auths,key=itemgetter(1), reverse=True)"
      ],
      "execution_count": 25,
      "outputs": []
    },
    {
      "cell_type": "code",
      "metadata": {
        "colab": {
          "base_uri": "https://localhost:8080/"
        },
        "id": "3nPo6P1NdkXE",
        "outputId": "c58ae4e0-f35f-4ebc-e56d-28983f9076b4"
      },
      "source": [
        "print('Top nodes IDs with hub scores')\n",
        "for i in range(5):\n",
        "  print(\"{:<5} {:<5} {:<5} \".format(i+1, sorted_hubs_dsc[i][0], np.round(sorted_hubs_dsc[i][1],4)))"
      ],
      "execution_count": 26,
      "outputs": [
        {
          "output_type": "stream",
          "name": "stdout",
          "text": [
            "Top nodes IDs with hub scores\n",
            "1     182   1.0   \n",
            "2     28    0.8942 \n",
            "3     543   0.8555 \n",
            "4     31    0.8101 \n",
            "5     547   0.7635 \n"
          ]
        }
      ]
    },
    {
      "cell_type": "code",
      "metadata": {
        "colab": {
          "base_uri": "https://localhost:8080/"
        },
        "id": "Fb8Ldf7xdk6S",
        "outputId": "0c894302-2314-454e-bef3-b6a80b2237de"
      },
      "source": [
        "print('Bottom nodes IDs with hub scores')\n",
        "for i in range(5):\n",
        "  print(\"{:<5} {:<5} {:<5} \".format(i+1, sorted_hubs_asc[i][0], np.round(sorted_hubs_asc[i][1],4)))"
      ],
      "execution_count": 27,
      "outputs": [
        {
          "output_type": "stream",
          "name": "stdout",
          "text": [
            "Bottom nodes IDs with hub scores\n",
            "1     289   0.0   \n",
            "2     407   0.0   \n",
            "3     464   0.0   \n",
            "4     488   0.0   \n",
            "5     491   0.0   \n"
          ]
        }
      ]
    },
    {
      "cell_type": "code",
      "metadata": {
        "colab": {
          "base_uri": "https://localhost:8080/"
        },
        "id": "DGtHjXHwdmei",
        "outputId": "29cff46f-f25f-4706-c3bc-add9ea009679"
      },
      "source": [
        "print('Top nodes IDs with authority scores')\n",
        "for i in range(5):\n",
        "  print(\"{:<5} {:<5} {:<5} \".format(i+1, sorted_auths_dsc[i][0], np.round(sorted_auths_dsc[i][1],4)))"
      ],
      "execution_count": 28,
      "outputs": [
        {
          "output_type": "stream",
          "name": "stdout",
          "text": [
            "Top nodes IDs with authority scores\n",
            "1     40    1.0   \n",
            "2     17    0.7598 \n",
            "3     656   0.7553 \n",
            "4     99    0.7333 \n",
            "5     629   0.6497 \n"
          ]
        }
      ]
    },
    {
      "cell_type": "code",
      "metadata": {
        "colab": {
          "base_uri": "https://localhost:8080/"
        },
        "id": "T4qy8lpvdoKC",
        "outputId": "7679eb1c-57b8-4b2f-e3fe-327161fb445a"
      },
      "source": [
        "print('Bottom nodes IDs with authority scores')\n",
        "for i in range(5):\n",
        "  print(\"{:<5} {:<5} {:<5} \".format(i+1, sorted_auths_asc[i][0], np.round(sorted_auths_asc[i][1],4)))"
      ],
      "execution_count": 29,
      "outputs": [
        {
          "output_type": "stream",
          "name": "stdout",
          "text": [
            "Bottom nodes IDs with authority scores\n",
            "1     429   0.0   \n",
            "2     430   0.0   \n",
            "3     431   0.0   \n",
            "4     432   0.0   \n",
            "5     433   0.0   \n"
          ]
        }
      ]
    }
  ]
}