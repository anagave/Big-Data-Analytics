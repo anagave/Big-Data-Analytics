{
  "nbformat": 4,
  "nbformat_minor": 0,
  "metadata": {
    "kernelspec": {
      "display_name": "Python 3",
      "language": "python",
      "name": "python3"
    },
    "language_info": {
      "codemirror_mode": {
        "name": "ipython",
        "version": 3
      },
      "file_extension": ".py",
      "mimetype": "text/x-python",
      "name": "python",
      "nbconvert_exporter": "python",
      "pygments_lexer": "ipython3",
      "version": "3.8.5"
    },
    "colab": {
      "name": "Assignment-6_Student_Achyutha.ipynb",
      "provenance": []
    }
  },
  "cells": [
    {
      "cell_type": "markdown",
      "metadata": {
        "id": "SvMN9QRDuQMT"
      },
      "source": [
        "# CS 5683 - Big Data Analytics\n",
        "## Assignment - 6: Graphs"
      ]
    },
    {
      "cell_type": "code",
      "metadata": {
        "id": "3MZ9yRrRuQMY"
      },
      "source": [
        "import networkx as nx\n",
        "import matplotlib.pyplot as plt\n",
        "import numpy as np"
      ],
      "execution_count": 2,
      "outputs": []
    },
    {
      "cell_type": "markdown",
      "metadata": {
        "id": "2L6QVgFduQMb"
      },
      "source": [
        "### Assignment Total: 15 points (3% of final)"
      ]
    },
    {
      "cell_type": "raw",
      "metadata": {
        "id": "ZKBi4caUuQMb"
      },
      "source": [
        "This is a self-learning assignment for graphs. You will explore a python package called networkx to find some properties of a given graph\n",
        "\n",
        "NetworkX documentation: https://networkx.org/documentation/stable/reference/introduction.html"
      ]
    },
    {
      "cell_type": "code",
      "metadata": {
        "id": "q4SXJYpwuQMc"
      },
      "source": [
        ""
      ],
      "execution_count": null,
      "outputs": []
    },
    {
      "cell_type": "markdown",
      "metadata": {
        "id": "wjJuK_6ruQMc"
      },
      "source": [
        "##### Use the network (edge list) 'Wiki-Vote.txt' given in Canvas"
      ]
    },
    {
      "cell_type": "code",
      "metadata": {
        "id": "PakYeGwruQMd"
      },
      "source": [
        "# NOTE: The data is given as an edgelist\n",
        "# Meaning: each edge (node1,node2) in one line of the input file\n",
        "input_data = 'Wiki-Vote.txt'"
      ],
      "execution_count": 3,
      "outputs": []
    },
    {
      "cell_type": "code",
      "metadata": {
        "id": "r9H6FbfguQMe"
      },
      "source": [
        "# Load the data as a directed graph (1 Point)\n",
        "# Note-1: networkx read_edgelist will read the graph as undirected graph\n",
        "# Note-2: you can convert this directed graph to an undirected graph wherever necessary in this assignment\n",
        "\n",
        "graph = nx.read_edgelist(input_data,create_using=nx.DiGraph)\n",
        "undirected_graph = graph.to_undirected()"
      ],
      "execution_count": 4,
      "outputs": []
    },
    {
      "cell_type": "markdown",
      "metadata": {
        "id": "OO6RO1fVuQMg"
      },
      "source": [
        "##### Print the following basic properties of the given graph"
      ]
    },
    {
      "cell_type": "code",
      "metadata": {
        "colab": {
          "base_uri": "https://localhost:8080/"
        },
        "id": "Hu-dBL7CuQMh",
        "outputId": "08f23546-0a91-4cd4-8a5f-bf4ce0387d16"
      },
      "source": [
        "# Print the number of nodes and edges in the graph here (2 Points)\n",
        "print(\"Number of Nodes are\",graph.number_of_nodes())\n",
        "print(\"Number of Edges are\",graph.number_of_edges())"
      ],
      "execution_count": 5,
      "outputs": [
        {
          "output_type": "stream",
          "name": "stdout",
          "text": [
            "Number of Nodes are 7115\n",
            "Number of Edges are 103689\n"
          ]
        }
      ]
    },
    {
      "cell_type": "code",
      "metadata": {
        "scrolled": true,
        "colab": {
          "base_uri": "https://localhost:8080/"
        },
        "id": "kfE_5tFouQMi",
        "outputId": "58663d68-0641-4edf-87e2-1d92158fd3f9"
      },
      "source": [
        "# Print the number of connected components here (1 Point)\n",
        "# NOTE: There is a networkx package for this\n",
        "print(nx.number_connected_components(undirected_graph))"
      ],
      "execution_count": 6,
      "outputs": [
        {
          "output_type": "stream",
          "name": "stdout",
          "text": [
            "24\n"
          ]
        }
      ]
    },
    {
      "cell_type": "code",
      "metadata": {
        "colab": {
          "base_uri": "https://localhost:8080/"
        },
        "id": "X233v50OuQMj",
        "outputId": "e4f58da4-0ddb-4c73-dc1c-7f06c94a07a7"
      },
      "source": [
        "# Print the number of nodes in each component here(1 Point)\n",
        "count_component = 0\n",
        "for component in list(nx.connected_components(undirected_graph)):\n",
        "    count_component += 1\n",
        "    print(\"For component:\",count_component)\n",
        "    print(\"              There are nodes:\",len(component))"
      ],
      "execution_count": 9,
      "outputs": [
        {
          "output_type": "stream",
          "name": "stdout",
          "text": [
            "For component: 1\n",
            "              There are nodes: 7066\n",
            "For component: 2\n",
            "              There are nodes: 2\n",
            "For component: 3\n",
            "              There are nodes: 2\n",
            "For component: 4\n",
            "              There are nodes: 2\n",
            "For component: 5\n",
            "              There are nodes: 2\n",
            "For component: 6\n",
            "              There are nodes: 2\n",
            "For component: 7\n",
            "              There are nodes: 2\n",
            "For component: 8\n",
            "              There are nodes: 2\n",
            "For component: 9\n",
            "              There are nodes: 2\n",
            "For component: 10\n",
            "              There are nodes: 2\n",
            "For component: 11\n",
            "              There are nodes: 2\n",
            "For component: 12\n",
            "              There are nodes: 2\n",
            "For component: 13\n",
            "              There are nodes: 2\n",
            "For component: 14\n",
            "              There are nodes: 2\n",
            "For component: 15\n",
            "              There are nodes: 2\n",
            "For component: 16\n",
            "              There are nodes: 3\n",
            "For component: 17\n",
            "              There are nodes: 2\n",
            "For component: 18\n",
            "              There are nodes: 2\n",
            "For component: 19\n",
            "              There are nodes: 3\n",
            "For component: 20\n",
            "              There are nodes: 2\n",
            "For component: 21\n",
            "              There are nodes: 2\n",
            "For component: 22\n",
            "              There are nodes: 2\n",
            "For component: 23\n",
            "              There are nodes: 2\n",
            "For component: 24\n",
            "              There are nodes: 3\n"
          ]
        }
      ]
    },
    {
      "cell_type": "code",
      "metadata": {
        "colab": {
          "base_uri": "https://localhost:8080/"
        },
        "id": "f-XzWYd7uQMj",
        "outputId": "8ed5c9ca-3033-4e85-d98b-ed65e0b603ce"
      },
      "source": [
        "# Delete all nodes from components which have less than 10 nodes in the graph here (1 Point)\n",
        "count_component = 0\n",
        "for component in list(nx.connected_components(undirected_graph)):\n",
        "    count_component += 1\n",
        "    if(len(component)<10):\n",
        "      for node in component:\n",
        "        undirected_graph.remove_node(node)\n",
        "print(\"Remaining component(s) are: \",nx.number_connected_components(undirected_graph))"
      ],
      "execution_count": 10,
      "outputs": [
        {
          "output_type": "stream",
          "name": "stdout",
          "text": [
            "Remaining component(s) are:  1\n"
          ]
        }
      ]
    },
    {
      "cell_type": "code",
      "metadata": {
        "colab": {
          "base_uri": "https://localhost:8080/",
          "height": 312
        },
        "id": "KcPDONVSuQMk",
        "outputId": "3da30918-91a5-4c36-f382-fdee9262ba75"
      },
      "source": [
        "# Plot the degree distribution of the graph with a line graph here (5 Points)\n",
        "# NOTE: You have to plot both in-degree and out-degree distribution in the same plot\n",
        "# REFERENCE: https://networkx.org/documentation/networkx-2.3/auto_examples/drawing/plot_degree_histogram.html\n",
        "# You have to get both in_degree and out_degree\n",
        "# You have to use line plot instead of a histogram\n",
        "import collections\n",
        "import matplotlib.pyplot as plt\n",
        "import networkx as nx\n",
        "\n",
        "\n",
        "degree_sequence = sorted([d for n, d in graph.in_degree()], reverse=True)  # degree sequence\n",
        "# print \"Degree sequence\", degree_sequence\n",
        "degreeCount = collections.Counter(degree_sequence)\n",
        "deg, cnt = zip(*degreeCount.items())\n",
        "fig, ax = plt.subplots()\n",
        "plt.plot(deg, cnt, color=\"m\",  label=\"indegree\")\n",
        "\n",
        "degree_sequence_out = sorted([d for n, d in graph.out_degree()], reverse=True)  # degree sequence\n",
        "degreeCount_out = collections.Counter(degree_sequence_out)\n",
        "outdeg, outcnt = zip(*degreeCount_out.items())\n",
        "plt.plot(outdeg, outcnt, color=\"g\",  label=\"outdegree\")\n",
        "plt.title(\"Degree Line Plot\")\n",
        "plt.ylabel(\"Count\")\n",
        "plt.xlabel(\"Degree\")\n",
        "plt.legend(loc=\"upper right\")"
      ],
      "execution_count": 34,
      "outputs": [
        {
          "output_type": "execute_result",
          "data": {
            "text/plain": [
              "<matplotlib.legend.Legend at 0x7f819f6a7110>"
            ]
          },
          "metadata": {},
          "execution_count": 34
        },
        {
          "output_type": "display_data",
          "data": {
            "image/png": "[encoded data removed]",
            "text/plain": [
              "<Figure size 432x288 with 1 Axes>"
            ]
          },
          "metadata": {
            "needs_background": "light"
          }
        }
      ]
    },
    {
      "cell_type": "code",
      "metadata": {
        "colab": {
          "base_uri": "https://localhost:8080/",
          "height": 295
        },
        "id": "PYgF1KCQuQMl",
        "outputId": "0c7e6f9a-2b97-4d5e-dd7a-e2275c93699b"
      },
      "source": [
        "# Similar to the degree distribution, plot the clustering coefficient distribution of the graph \n",
        "#        with a line graph here (5 Points)\n",
        "# NOTE: You can get the clustering coefficient of each node using the networkX function given below:\n",
        "# REFERENCE: https://networkx.org/documentation/stable/reference/algorithms/generated/networkx.algorithms.cluster.clustering.html\n",
        "# HOW TO PLOT THIS?\n",
        "# STEP-1: Get clustering coefficient of each node\n",
        "# STEP-2: Count the number of nodes with each clustering coefficient value\n",
        "# STEP-3: Plot with clustering coefficient in x-axis and number of nodes in y-axis\n",
        "# We do not need plot with clustering coefficient of both in_degree and out_degree\n",
        "# Use line plot instead of histogram\n",
        "\n",
        "\n",
        "import matplotlib.pyplot as plt\n",
        "import networkx as nx\n",
        "\n",
        "\n",
        "local_clustering_coefficient = nx.algorithms.cluster.clustering(graph)\n",
        "\n",
        "\n",
        "lists = sorted(local_clustering_coefficient.items()) # sorted by key, return a list of tuples\n",
        "\n",
        "x, y = zip(*lists) # unpack a list of pairs into two tuples\n",
        "\n",
        "plt.plot(x, y, label = \"Clustering\",color=\"m\") #line plot\n",
        "\n",
        "plt.legend(loc=\"upper right\")\n",
        "plt.xlabel('Clustering Coefficient')\n",
        "plt.ylabel('Number of Nodes')\n",
        "plt.title('Clustering Coefficient Line Plot')\n",
        "plt.show()"
      ],
      "execution_count": 40,
      "outputs": [
        {
          "output_type": "display_data",
          "data": {
            "image/png": "[encoded data removed]",
            "text/plain": [
              "<Figure size 432x288 with 1 Axes>"
            ]
          },
          "metadata": {
            "needs_background": "light"
          }
        }
      ]
    },
    {
      "cell_type": "code",
      "metadata": {
        "id": "GxRykZPHuQMn"
      },
      "source": [
        "# TIPS FOR YOUR PLOTS:\n",
        "# Your plots must have the following\n",
        "# x-axis name\n",
        "# y-axis name\n",
        "# plot title\n",
        "# Legend, if there are multiple plots in a same plot"
      ],
      "execution_count": null,
      "outputs": []
    }
  ]
}