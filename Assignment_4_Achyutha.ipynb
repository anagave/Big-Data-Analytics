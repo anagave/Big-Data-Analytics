{
  "nbformat": 4,
  "nbformat_minor": 0,
  "metadata": {
    "kernelspec": {
      "display_name": "Python 3",
      "language": "python",
      "name": "python3"
    },
    "language_info": {
      "codemirror_mode": {
        "name": "ipython",
        "version": 3
      },
      "file_extension": ".py",
      "mimetype": "text/x-python",
      "name": "python",
      "nbconvert_exporter": "python",
      "pygments_lexer": "ipython3",
      "version": "3.7.4"
    },
    "colab": {
      "name": "Assignment-4_Achyutha.ipynb",
      "provenance": []
    }
  },
  "cells": [
    {
      "cell_type": "markdown",
      "metadata": {
        "id": "FwCbXlJWfOXK"
      },
      "source": [
        "# CS 5683 - Big Data Analytics\n",
        "## Assignment - 4: Friend Recommendation"
      ]
    },
    {
      "cell_type": "code",
      "metadata": {
        "id": "EwvVddTDXMZQ"
      },
      "source": [
        "#Name : Achyutha Nagaveti Bhavani Santhoshi\n",
        "#CWID : A20314248 "
      ],
      "execution_count": null,
      "outputs": []
    },
    {
      "cell_type": "code",
      "metadata": {
        "id": "-pqqni1CfOXN"
      },
      "source": [
        "import itertools"
      ],
      "execution_count": 30,
      "outputs": []
    },
    {
      "cell_type": "markdown",
      "metadata": {
        "id": "ys0j3uQ7fOXO"
      },
      "source": [
        "### Assignment Total: 10 points (3% of final)"
      ]
    },
    {
      "cell_type": "raw",
      "metadata": {
        "id": "ms0zmuALfOXO"
      },
      "source": [
        "In this assignment we will create a simple recommender engine that recommend friends based on number of mutual friends"
      ]
    },
    {
      "cell_type": "code",
      "metadata": {
        "id": "bWWWNESefOXO"
      },
      "source": [
        ""
      ],
      "execution_count": null,
      "outputs": []
    },
    {
      "cell_type": "markdown",
      "metadata": {
        "id": "av6WoV8cfOXP"
      },
      "source": [
        "##### Comsider the following list as a simple matrix 'M' for all tasks of this assignment"
      ]
    },
    {
      "cell_type": "code",
      "metadata": {
        "id": "IUBujkmUfOXP"
      },
      "source": [
        "input_data = 'soc-LiveJournal1Adj.txt'"
      ],
      "execution_count": 31,
      "outputs": []
    },
    {
      "cell_type": "code",
      "metadata": {
        "id": "L7nmh-FyfOXP"
      },
      "source": [
        "direct_friends = dict() # Stores directly connected friends\n",
        "\n",
        "# friend_recommendations stores user recommendations\n",
        "# It should be of type dict[dict]\n",
        "# Example-1: \n",
        "    # friend_recommendations[100][125] = 1 \n",
        "    # -- meaning that users 100 and 125 have 1 mutual friend\n",
        "    # In other words, 1 user has 100 and 125 as direct friends\n",
        "# Example-2: \n",
        "    # friend_recommendations[100][146] = 4 \n",
        "    # -- meaning that users 100 and 125 have 4 mutual friends\n",
        "    # In other words, 4 users have 100 and 146 as direct friends\n",
        "friend_recommendations = dict()\n",
        "\n",
        "fp = open(input_data,'r')\n",
        "\n",
        "# Iterate through the data once and fill direct_friends and friend_recommendations\n",
        "for line in fp:\n",
        "    line_split = line.split()\n",
        "    \n",
        "    if len(line_split) == 2:\n",
        "        user = int(line_split[0])\n",
        "        friends = list(map(int, line_split[1].split(',')))\n",
        "        direct_friends[user] = friends\n",
        "        \n",
        "        # Generate user pairs to identify friend recommendation\n",
        "        recommendations = list(itertools.permutations(friends,2))\n",
        "        \n",
        "        # Fill friend_recommendations below (3 POINTS)\n",
        "        for M in recommendations:\n",
        "          if M[0] not in friend_recommendations:\n",
        "            friend_recommendations[M[0]] = {M[1]:1}\n",
        "          else:\n",
        "            if M[1] not in friend_recommendations[M[0]]:\n",
        "              friend_recommendations[M[0]][M[1]] = 1\n",
        "            else:\n",
        "              friend_recommendations[M[0]][M[1]] = friend_recommendations[M[0]][M[1]] + 1\n",
        "          \n",
        "        \n",
        "fp.close()"
      ],
      "execution_count": 32,
      "outputs": []
    },
    {
      "cell_type": "code",
      "metadata": {
        "id": "M_yz0BX2fOXQ"
      },
      "source": [
        "# Remove direct friends from friend_recommendations (2 POINTS)\n",
        "for i in direct_friends:\n",
        "  for j in direct_friends[i]:\n",
        "    if i in friend_recommendations and j in friend_recommendations[i]:\n",
        "        delete = friend_recommendations[i]\n",
        "        delete.pop(j)"
      ],
      "execution_count": 33,
      "outputs": []
    },
    {
      "cell_type": "code",
      "metadata": {
        "id": "5VNL93s-fOXQ"
      },
      "source": [
        "# Sort recommendations based on number of mutual friends and user IDs here... (3 POINTS)\n",
        "for k in friend_recommendations:\n",
        "  friend_recommendations[k] = sorted(friend_recommendations[k].items(), key=lambda x: (-x[1],x[0]))"
      ],
      "execution_count": 34,
      "outputs": []
    },
    {
      "cell_type": "code",
      "metadata": {
        "colab": {
          "base_uri": "https://localhost:8080/"
        },
        "id": "LfM9WMvnUOLo",
        "outputId": "ea87f7cc-b86e-4227-9f1b-79707fdfdf9d"
      },
      "source": [
        "# Print recommendations of users 924, 1153, 6712, 8213, 12835, 23478 here (2 POINTS)\n",
        "print('Recommendations for User ' + str(924) + ' : ' + str([n[0] for n in friend_recommendations[924][:10]]))\n",
        "print('Recommendations for User ' + str(1153) + ' : ' + str([n[0] for n in friend_recommendations[1153][:10]]))\n",
        "print('Recommendations for User ' + str(6712) + ' : ' + str([n[0] for n in friend_recommendations[6712][:10]]))\n",
        "print('Recommendations for User ' + str(8213) + ' : ' + str([n[0] for n in friend_recommendations[8213][:10]]))\n",
        "print('Recommendations for User ' + str(12835) + ' : ' + str([n[0] for n in friend_recommendations[12835][:10]]))\n",
        "print('Recommendations for User ' + str(23478) + ' : ' + str([n[0] for n in friend_recommendations[23478][:10]]))"
      ],
      "execution_count": 39,
      "outputs": [
        {
          "output_type": "stream",
          "name": "stdout",
          "text": [
            "Recommendations for User 924 : [439, 2409, 6995, 11860, 15416, 43748, 45881]\n",
            "Recommendations for User 1153 : [1108, 1132, 1150, 1127, 1117, 1120, 1138, 1143, 1118, 1124]\n",
            "Recommendations for User 6712 : [6723, 6771, 6756, 6716, 6729, 6748, 6714, 6732, 6717, 6718]\n",
            "Recommendations for User 8213 : [8217, 106, 558, 1100, 1423, 2081, 2181, 2413, 3117, 3126]\n",
            "Recommendations for User 12835 : [6140, 1680, 5460, 7018, 8509, 10778, 26905, 35374, 35991, 1787]\n",
            "Recommendations for User 23478 : [23471, 45481, 557, 2147, 3931, 6455, 6606, 6631, 6634, 6660]\n"
          ]
        }
      ]
    },
    {
      "cell_type": "code",
      "metadata": {
        "colab": {
          "base_uri": "https://localhost:8080/"
        },
        "id": "g1STFJWpfOXR",
        "outputId": "1bf01b1e-2674-428d-c558-0694220863eb"
      },
      "source": [
        "# Sample recommendation\n",
        "print('Recommendations for User ' + str(11) + ' : ' + str([n[0] for n in friend_recommendations[11][:10]]))\n",
        "# 11: 27552, 7785, 27573, 27574, 27589, 27590, 27600, 27617, 27620, 27667"
      ],
      "execution_count": 37,
      "outputs": [
        {
          "output_type": "stream",
          "name": "stdout",
          "text": [
            "Recommendations for User 11 : [27552, 7785, 27573, 27574, 27589, 27590, 27600, 27617, 27620, 27667]\n"
          ]
        }
      ]
    }
  ]
}