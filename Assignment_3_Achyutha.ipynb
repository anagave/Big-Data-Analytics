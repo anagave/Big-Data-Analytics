{
  "nbformat": 4,
  "nbformat_minor": 0,
  "metadata": {
    "kernelspec": {
      "display_name": "Python 3",
      "language": "python",
      "name": "python3"
    },
    "language_info": {
      "codemirror_mode": {
        "name": "ipython",
        "version": 3
      },
      "file_extension": ".py",
      "mimetype": "text/x-python",
      "name": "python",
      "nbconvert_exporter": "python",
      "pygments_lexer": "ipython3",
      "version": "3.7.4"
    },
    "colab": {
      "name": "Assignment-3-Achyutha.ipynb",
      "provenance": []
    }
  },
  "cells": [
    {
      "cell_type": "code",
      "metadata": {
        "id": "Q8w_A8wR5KoO"
      },
      "source": [
        "#Name: Achyutha Nagaveti Bhavani Santhoshi\n",
        "#CWID: A20314248\n",
        "#Course: CS 5683: Big Data Analytics\n",
        "#Assignment: Assignment-3"
      ],
      "execution_count": null,
      "outputs": []
    },
    {
      "cell_type": "markdown",
      "metadata": {
        "id": "_FbcgpTP5KoQ"
      },
      "source": [
        "# CS 5683 - Big Data Analytics\n",
        "## Assignment - 3: SVD and PCA"
      ]
    },
    {
      "cell_type": "code",
      "metadata": {
        "id": "TIb8ieqb5KoS"
      },
      "source": [
        "# Import packages here\n",
        "import numpy as np\n",
        "from numpy import array\n",
        "from sklearn.decomposition import PCA\n",
        "from scipy.linalg import svd\n",
        "from scipy import linalg\n",
        "from scipy.linalg import eigh"
      ],
      "execution_count": null,
      "outputs": []
    },
    {
      "cell_type": "raw",
      "metadata": {
        "id": "Iiw295JE5KoU"
      },
      "source": [
        "1. In this assignment we will analyze the correspondence between Singular \n",
        "\n",
        "1.   List item\n",
        "2.   List item\n",
        "\n",
        "Value Decomposition (SVD) and Principal Component Analysis (PCA)\n",
        "\n",
        "2. We will use Python functions to do complex matrix computations"
      ]
    },
    {
      "cell_type": "markdown",
      "metadata": {
        "id": "YjO3ReGc5KoV"
      },
      "source": [
        "##### Consider the following list as a simple matrix 'M' for all tasks of this assignment"
      ]
    },
    {
      "cell_type": "code",
      "metadata": {
        "id": "ziOAS7vF5KoW"
      },
      "source": [
        "M = [[1,2],[3,4],[5,6],[7,8]] # Convert this list to a matrix"
      ],
      "execution_count": null,
      "outputs": []
    },
    {
      "cell_type": "code",
      "metadata": {
        "id": "jB2z17Qv5KoX",
        "colab": {
          "base_uri": "https://localhost:8080/"
        },
        "outputId": "18bd96d5-58a0-46b8-f79f-3ea81f478ca8"
      },
      "source": [
        "M = np.array(M)\n",
        "print(M)"
      ],
      "execution_count": null,
      "outputs": [
        {
          "output_type": "stream",
          "name": "stdout",
          "text": [
            "[[1 2]\n",
            " [3 4]\n",
            " [5 6]\n",
            " [7 8]]\n"
          ]
        }
      ]
    },
    {
      "cell_type": "markdown",
      "metadata": {
        "id": "ruj-oSzG5KoY"
      },
      "source": [
        "##### Question-1: Compute SVD of M"
      ]
    },
    {
      "cell_type": "code",
      "metadata": {
        "id": "Sc3iHPgc5KoZ"
      },
      "source": [
        "# Use Python's scipy.linalg.svd function \n",
        "# and set the argument full_matrices to False\n",
        "\n"
      ],
      "execution_count": null,
      "outputs": []
    },
    {
      "cell_type": "markdown",
      "metadata": {
        "id": "2mA03-zG5KoZ"
      },
      "source": [
        "Report the values of $ U $, $ \\sum $ and $ V^T $ from SVD of M in the below cell\n",
        "\n",
        "NOTE: Values of $ \\sum $ should be in decreasing order - first element should be greater than the second element, and so on"
      ]
    },
    {
      "cell_type": "code",
      "metadata": {
        "id": "NpMTcwdt5Koa",
        "colab": {
          "base_uri": "https://localhost:8080/"
        },
        "outputId": "d4f334ef-b2c7-4d41-dc44-e8571c08a280"
      },
      "source": [
        "U, s, VT = svd(M)\n",
        "print(\"𝑈\")\n",
        "print(U)\n",
        "print(\"∑\")\n",
        "print(s)\n",
        "print(\"𝑉𝑇\")\n",
        "print(VT)"
      ],
      "execution_count": null,
      "outputs": [
        {
          "output_type": "stream",
          "name": "stdout",
          "text": [
            "𝑈\n",
            "[[-0.15248323 -0.82264747 -0.39450102 -0.37995913]\n",
            " [-0.34991837 -0.42137529  0.24279655  0.80065588]\n",
            " [-0.54735351 -0.0201031   0.69790998 -0.46143436]\n",
            " [-0.74478865  0.38116908 -0.5462055   0.04073761]]\n",
            "∑\n",
            "[14.2690955   0.62682823]\n",
            "𝑉𝑇\n",
            "[[-0.64142303 -0.7671874 ]\n",
            " [ 0.7671874  -0.64142303]]\n"
          ]
        }
      ]
    },
    {
      "cell_type": "code",
      "metadata": {
        "colab": {
          "base_uri": "https://localhost:8080/"
        },
        "id": "MWkd6APNN1jP",
        "outputId": "1478c7e2-bd91-418b-b281-c92647ccaeb1"
      },
      "source": [
        "v= np.transpose(VT)\n",
        "print(\"V\")\n",
        "print(v)"
      ],
      "execution_count": null,
      "outputs": [
        {
          "output_type": "stream",
          "name": "stdout",
          "text": [
            "V\n",
            "[[-0.64142303  0.7671874 ]\n",
            " [-0.7671874  -0.64142303]]\n"
          ]
        }
      ]
    },
    {
      "cell_type": "markdown",
      "metadata": {
        "id": "FGJTkD2P5Koa"
      },
      "source": [
        "##### Question-2: Compute Eigen Decomposition"
      ]
    },
    {
      "cell_type": "markdown",
      "metadata": {
        "id": "Ps-GJsvu5Kob"
      },
      "source": [
        "We do Eigen Decomposition on $ M^TM $"
      ]
    },
    {
      "cell_type": "code",
      "metadata": {
        "id": "nCgXf7_q5Kob"
      },
      "source": [
        "# Use Python's scipy.linalg.eigh function\n"
      ],
      "execution_count": null,
      "outputs": []
    },
    {
      "cell_type": "markdown",
      "metadata": {
        "id": "Pz3un46H5Kob"
      },
      "source": [
        "Report Eigenvalues(Evals) and Eigenvectors-matrix(Evecs) from the above function in the below cell\n",
        "\n",
        "NOTE: Make sure Evals are in decreasing order and Eigenvectors in Evecs correspond to that of sorted Eigenvalues in Evecs"
      ]
    },
    {
      "cell_type": "code",
      "metadata": {
        "id": "xTp_KKym5Koc",
        "colab": {
          "base_uri": "https://localhost:8080/"
        },
        "outputId": "caf3155c-fb94-4db0-ceeb-c53598e24d0c"
      },
      "source": [
        "w, v = eigh(np.matmul(M.transpose(),M))\n",
        "idx = w.argsort()[::-1]   \n",
        "evals = w[idx]\n",
        "evecs = v[:,idx]\n",
        "print(\"Eigenvalues\")\n",
        "print(evals)\n",
        "print(\"Eigenvectors-matrix\")\n",
        "print(evecs)"
      ],
      "execution_count": null,
      "outputs": [
        {
          "output_type": "stream",
          "name": "stdout",
          "text": [
            "Eigenvalues\n",
            "[203.60708637   0.39291363]\n",
            "Eigenvectors-matrix\n",
            "[[ 0.64142303 -0.7671874 ]\n",
            " [ 0.7671874   0.64142303]]\n"
          ]
        }
      ]
    },
    {
      "cell_type": "markdown",
      "metadata": {
        "id": "E4FJ7_nW5Koc"
      },
      "source": [
        "##### Question-3: V Vs. Evecs (2 Points)"
      ]
    },
    {
      "cell_type": "markdown",
      "metadata": {
        "id": "NWKiADR55Koc"
      },
      "source": [
        "What is the correspondence between **$ V $** from scipy.linalg.svd function and **Evecs** from scipy.linalg.eigh function? Write your answer in the below cell.\n",
        "\n",
        "NOTE: scipy.linalg.svd function returns $ V^T $ not $ V $"
      ]
    },
    {
      "cell_type": "code",
      "metadata": {
        "id": "qoi6FdxaPTE-"
      },
      "source": [
        "SVD is the decomposition of a matrix M into 3 matrices – U, S, and V\n",
        "Eigen is the decomposition of a matrix M Decomposition on  𝑀𝑇𝑀\n",
        "\n",
        "The correspondence between  𝑉  from scipy.linalg.svd function and Evecs from scipy.linalg.eigh function is:\n",
        "\n",
        "The 𝑉 Evecs from scipy.linalg.eigh function is the negative multiplication of from scipy.linalg.svd"
      ],
      "execution_count": null,
      "outputs": []
    },
    {
      "cell_type": "markdown",
      "metadata": {
        "id": "WzkLx47R5Kod"
      },
      "source": [
        "##### Question-4 Sigma Vs. EVals (2 Points)"
      ]
    },
    {
      "cell_type": "markdown",
      "metadata": {
        "id": "yWShKPC-5Kod"
      },
      "source": [
        "What is the correspondence between **$ \\sum $** from scipy.linalg.svd function and **Evals** from scipy.linalg.eigh function? Write your answer in the below cell."
      ]
    },
    {
      "cell_type": "code",
      "metadata": {
        "id": "hHfMim6CPVkU"
      },
      "source": [
        "SVD is the decomposition of a matrix M into 3 matrices – U, S, and V\n",
        "Eigen is the decomposition of a matrix M Decomposition on  𝑀𝑇𝑀\n",
        "\n",
        "The correspondence between ∑  from scipy.linalg.svd function and Evals from scipy.linalg.eigh function is:\n",
        "\n",
        "The ∑ from scipy.linalg.svd functio is the square root of Evals from scipy.linalg.eigh function"
      ],
      "execution_count": null,
      "outputs": []
    },
    {
      "cell_type": "markdown",
      "metadata": {
        "id": "ROGUKShT5Kof"
      },
      "source": [
        "##### Question-5: Do you think we can achieve PCA with SVD? If so, how? (2 Points)"
      ]
    },
    {
      "cell_type": "code",
      "metadata": {
        "id": "dfX1RGmOQbOh"
      },
      "source": [
        "\n",
        "PCA and SVD are closely related approaches and can be both applied to decompose any rectangular matrices\n",
        "\n",
        "Their relationship by performing SVD on the covariance matrix M:\n",
        "\n",
        "M = SVDT SVD / n - 1\n",
        "  = UT∑V VT∑U / n - 1\n",
        "  = V (pow(∑,2) / n - 1) VT\n",
        "  = V (pow(∑,2) / n - 1) pow(V, -1) {because V is unitary}\n",
        "  = pow(∑,2) / n - 1\n",
        "\n",
        "\n",
        "Yes, We can achieve PCA with SVD but we should truncate some values to achieve the result.\n",
        "\n"
      ],
      "execution_count": null,
      "outputs": []
    }
  ]
}